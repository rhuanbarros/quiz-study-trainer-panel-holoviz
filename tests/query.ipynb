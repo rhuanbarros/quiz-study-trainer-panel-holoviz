{
 "cells": [
  {
   "cell_type": "code",
   "execution_count": 1,
   "metadata": {},
   "outputs": [],
   "source": [
    "import os\n",
    "from dotenv import load_dotenv\n",
    "load_dotenv()  # take environment variables from .env.\n",
    "\n",
    "from supabase import create_client, Client"
   ]
  },
  {
   "cell_type": "code",
   "execution_count": 2,
   "metadata": {},
   "outputs": [],
   "source": [
    "url = os.environ[\"SUPABASE_URL\"]\n",
    "key = os.environ[\"SUPABASE_KEY\"]\n",
    "\n",
    "supabase: Client = create_client(url, key)"
   ]
  },
  {
   "cell_type": "code",
   "execution_count": 4,
   "metadata": {},
   "outputs": [
    {
     "name": "stdout",
     "output_type": "stream",
     "text": [
      "('data', [{'id': 481, 'created_at': '2024-09-22T12:31:52.568957+00:00', 'subject_matter': 'Probability', 'topic_description': 'Calculating R-squared for regression models', 'level': 'Create', 'question': \"Imagine a scenario where you are analyzing the relationship between the number of hours spent studying and the final exam score. You develop a regression model where the independent variable is hours spent studying and the dependent variable is the final exam score. You find that R-squared is 0.6. Now, suppose you add another independent variable,  'Hours of Sleep', to the model. What is a plausible scenario for how adding this new variable would impact R-squared, and what does this tell us about the model?\", 'type': 'multiple_options', 'answer_correct': 'b', 'explanation': \"Adding 'Hours of Sleep' would likely increase R-squared. This is because introducing a new variable (if it has a meaningful relationship with the dependent variable) can help explain more of the variation in the final exam score, leading to a higher R-squared.  However, this doesn't automatically mean that the new model is better; it's important to consider the practical significance of the improvement. \\n \\n  a) Incorrect. Adding a variable that improves the model's predictive power would increase R-squared, not decrease it. \\n \\n c) Incorrect. If 'Hours of Sleep' is a significant predictor, adding it should improve the model's fit and increase R-squared. \\n \\n d) Incorrect. The new variable could potentially explain a significant portion of the remaining variance, especially if it is correlated with the final exam score. \", 'answer_a': \"Adding 'Hours of Sleep' would likely decrease R-squared, indicating that the original model was more accurate.\", 'answer_b': \"Adding 'Hours of Sleep' would likely increase R-squared, indicating that the original model was underfitting the data.\", 'answer_c': \"Adding 'Hours of Sleep' would likely have a minimal impact on R-squared, as the initial model already captured most of the variance.\", 'answer_d': \"Adding 'Hours of Sleep' might not significantly change R-squared, suggesting that 'Hours of Sleep' might not be a strong predictor of the final exam score.\"}])\n"
     ]
    }
   ],
   "source": [
    "data, count = supabase.table('get_question').select(\"*\").execute()\n",
    "print(data)"
   ]
  },
  {
   "cell_type": "code",
   "execution_count": 9,
   "metadata": {},
   "outputs": [
    {
     "data": {
      "text/plain": [
       "{'id': 481,\n",
       " 'created_at': '2024-09-22T12:31:52.568957+00:00',\n",
       " 'subject_matter': 'Probability',\n",
       " 'topic_description': 'Calculating R-squared for regression models',\n",
       " 'level': 'Create',\n",
       " 'question': \"Imagine a scenario where you are analyzing the relationship between the number of hours spent studying and the final exam score. You develop a regression model where the independent variable is hours spent studying and the dependent variable is the final exam score. You find that R-squared is 0.6. Now, suppose you add another independent variable,  'Hours of Sleep', to the model. What is a plausible scenario for how adding this new variable would impact R-squared, and what does this tell us about the model?\",\n",
       " 'type': 'multiple_options',\n",
       " 'answer_correct': 'b',\n",
       " 'explanation': \"Adding 'Hours of Sleep' would likely increase R-squared. This is because introducing a new variable (if it has a meaningful relationship with the dependent variable) can help explain more of the variation in the final exam score, leading to a higher R-squared.  However, this doesn't automatically mean that the new model is better; it's important to consider the practical significance of the improvement. \\n \\n  a) Incorrect. Adding a variable that improves the model's predictive power would increase R-squared, not decrease it. \\n \\n c) Incorrect. If 'Hours of Sleep' is a significant predictor, adding it should improve the model's fit and increase R-squared. \\n \\n d) Incorrect. The new variable could potentially explain a significant portion of the remaining variance, especially if it is correlated with the final exam score. \",\n",
       " 'answer_a': \"Adding 'Hours of Sleep' would likely decrease R-squared, indicating that the original model was more accurate.\",\n",
       " 'answer_b': \"Adding 'Hours of Sleep' would likely increase R-squared, indicating that the original model was underfitting the data.\",\n",
       " 'answer_c': \"Adding 'Hours of Sleep' would likely have a minimal impact on R-squared, as the initial model already captured most of the variance.\",\n",
       " 'answer_d': \"Adding 'Hours of Sleep' might not significantly change R-squared, suggesting that 'Hours of Sleep' might not be a strong predictor of the final exam score.\"}"
      ]
     },
     "execution_count": 9,
     "metadata": {},
     "output_type": "execute_result"
    }
   ],
   "source": [
    "data[1][0]"
   ]
  },
  {
   "cell_type": "code",
   "execution_count": null,
   "metadata": {},
   "outputs": [],
   "source": []
  }
 ],
 "metadata": {
  "kernelspec": {
   "display_name": ".venv",
   "language": "python",
   "name": "python3"
  },
  "language_info": {
   "codemirror_mode": {
    "name": "ipython",
    "version": 3
   },
   "file_extension": ".py",
   "mimetype": "text/x-python",
   "name": "python",
   "nbconvert_exporter": "python",
   "pygments_lexer": "ipython3",
   "version": "3.11.2"
  }
 },
 "nbformat": 4,
 "nbformat_minor": 2
}
